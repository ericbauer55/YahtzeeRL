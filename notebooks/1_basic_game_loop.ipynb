{
 "cells": [
  {
   "cell_type": "code",
   "execution_count": 1,
   "metadata": {},
   "outputs": [],
   "source": [
    "from src.envs.yahtzee_env import YahzeeEnv\n",
    "from gym.spaces import flatdim, flatten, flatten_space\n",
    "import numpy as np"
   ]
  },
  {
   "cell_type": "code",
   "execution_count": 2,
   "metadata": {},
   "outputs": [],
   "source": [
    "env = YahzeeEnv(render_mode='ansi')"
   ]
  },
  {
   "cell_type": "code",
   "execution_count": 3,
   "metadata": {},
   "outputs": [
    {
     "name": "stdout",
     "output_type": "stream",
     "text": [
      "\n",
      "================================================================================\n",
      "Observation:\n",
      "{'roll_num': 1, 'rolls': array([4, 5, 1], dtype=int8), 'scored_options': 0}\n",
      "----------------------------------------------------------------------\n",
      "Info:\n",
      "{'invalid_action': None, 'score': 0}\n"
     ]
    }
   ],
   "source": [
    "obs, info = env.reset()"
   ]
  },
  {
   "cell_type": "code",
   "execution_count": 4,
   "metadata": {},
   "outputs": [
    {
     "name": "stdout",
     "output_type": "stream",
     "text": [
      "\n",
      "================================================================================\n",
      "Observation:\n",
      "{'roll_num': 2, 'rolls': array([4, 5, 6], dtype=int8), 'scored_options': 0}\n",
      "----------------------------------------------------------------------\n",
      "Info:\n",
      "{'invalid_action': True, 'score': 0}\n",
      "\n",
      "================================================================================\n",
      "Observation:\n",
      "{'roll_num': 3, 'rolls': array([5, 1, 6], dtype=int8), 'scored_options': 0}\n",
      "----------------------------------------------------------------------\n",
      "Info:\n",
      "{'invalid_action': True, 'score': 0}\n",
      "\n",
      "================================================================================\n",
      "Observation:\n",
      "{'roll_num': 1, 'rolls': array([1, 4, 5], dtype=int8), 'scored_options': 5}\n",
      "----------------------------------------------------------------------\n",
      "Info:\n",
      "{'invalid_action': True, 'score': 6}\n"
     ]
    }
   ],
   "source": [
    "done = False\n",
    "while not done:\n",
    "    while True:\n",
    "        all_actions = ['Kxxx, x in {0,1}']+list(env._get_scorable_options().keys()) \n",
    "        action = input(f'Rolls={obs[\"rolls\"]+1}\\nInput one of these actions:\\n{all_actions}')\n",
    "        if env.action_format_checker.match(action) is not None: break\n",
    "    obs, reward, done, _, info = env.step(action)"
   ]
  },
  {
   "cell_type": "code",
   "execution_count": null,
   "metadata": {},
   "outputs": [],
   "source": []
  },
  {
   "cell_type": "code",
   "execution_count": null,
   "metadata": {},
   "outputs": [],
   "source": []
  }
 ],
 "metadata": {
  "kernelspec": {
   "display_name": "venv",
   "language": "python",
   "name": "python3"
  },
  "language_info": {
   "codemirror_mode": {
    "name": "ipython",
    "version": 3
   },
   "file_extension": ".py",
   "mimetype": "text/x-python",
   "name": "python",
   "nbconvert_exporter": "python",
   "pygments_lexer": "ipython3",
   "version": "3.8.5"
  }
 },
 "nbformat": 4,
 "nbformat_minor": 2
}
