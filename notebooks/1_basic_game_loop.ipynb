{
 "cells": [
  {
   "cell_type": "code",
   "execution_count": 1,
   "metadata": {},
   "outputs": [],
   "source": [
    "from src.envs.yahtzee_env import YahzeeEnv\n",
    "from gym.spaces import flatdim, flatten, flatten_space\n",
    "import numpy as np"
   ]
  },
  {
   "cell_type": "code",
   "execution_count": 2,
   "metadata": {},
   "outputs": [],
   "source": [
    "env = YahzeeEnv(render_mode='ansi')"
   ]
  },
  {
   "cell_type": "code",
   "execution_count": 3,
   "metadata": {},
   "outputs": [
    {
     "name": "stdout",
     "output_type": "stream",
     "text": [
      "\n",
      "================================================================================\n",
      "Observation:\n",
      "{'roll_num': 1, 'rolls': array([5, 5, 6], dtype=int64), 'scored_options': 0}\n",
      "----------------------------------------------------------------------\n",
      "Info:\n",
      "{'invalid_action': None, 'score': 0}\n"
     ]
    }
   ],
   "source": [
    "obs, info = env.reset()"
   ]
  },
  {
   "cell_type": "code",
   "execution_count": 4,
   "metadata": {},
   "outputs": [],
   "source": [
    "env.action_format_checker.match('K1011')"
   ]
  },
  {
   "cell_type": "code",
   "execution_count": 5,
   "metadata": {},
   "outputs": [
    {
     "name": "stdout",
     "output_type": "stream",
     "text": [
      "\n",
      "================================================================================\n",
      "Observation:\n",
      "{'roll_num': 1, 'rolls': array([5, 5, 6], dtype=int64), 'scored_options': 0}\n",
      "----------------------------------------------------------------------\n",
      "Info:\n",
      "{'invalid_action': False, 'score': -100}\n"
     ]
    },
    {
     "ename": "AssertionError",
     "evalue": "Expects the mask length to be equal to the number of actions, mask length: 3, action: 6",
     "output_type": "error",
     "traceback": [
      "\u001b[1;31m---------------------------------------------------------------------------\u001b[0m",
      "\u001b[1;31mAssertionError\u001b[0m                            Traceback (most recent call last)",
      "Cell \u001b[1;32mIn[5], line 7\u001b[0m\n\u001b[0;32m      5\u001b[0m     action \u001b[38;5;241m=\u001b[39m \u001b[38;5;28minput\u001b[39m(\u001b[38;5;124mf\u001b[39m\u001b[38;5;124m'\u001b[39m\u001b[38;5;124mRolls=\u001b[39m\u001b[38;5;132;01m{\u001b[39;00mobs[\u001b[38;5;124m\"\u001b[39m\u001b[38;5;124mrolls\u001b[39m\u001b[38;5;124m\"\u001b[39m]\u001b[38;5;132;01m}\u001b[39;00m\u001b[38;5;130;01m\\n\u001b[39;00m\u001b[38;5;124mInput one of these actions:\u001b[39m\u001b[38;5;130;01m\\n\u001b[39;00m\u001b[38;5;132;01m{\u001b[39;00mall_actions\u001b[38;5;132;01m}\u001b[39;00m\u001b[38;5;124m'\u001b[39m)\n\u001b[0;32m      6\u001b[0m     \u001b[38;5;28;01mif\u001b[39;00m env\u001b[38;5;241m.\u001b[39maction_format_checker\u001b[38;5;241m.\u001b[39mmatch(action) \u001b[38;5;129;01mis\u001b[39;00m \u001b[38;5;129;01mnot\u001b[39;00m \u001b[38;5;28;01mNone\u001b[39;00m: \u001b[38;5;28;01mbreak\u001b[39;00m\n\u001b[1;32m----> 7\u001b[0m obs, reward, done, _, info \u001b[38;5;241m=\u001b[39m \u001b[43menv\u001b[49m\u001b[38;5;241;43m.\u001b[39;49m\u001b[43mstep\u001b[49m\u001b[43m(\u001b[49m\u001b[43maction\u001b[49m\u001b[43m)\u001b[49m\n",
      "File \u001b[1;32mc:\\users\\bauer\\documents\\code\\python\\yahtzeerl\\src\\src\\envs\\yahtzee_env.py:121\u001b[0m, in \u001b[0;36mYahzeeEnv.step\u001b[1;34m(self, action)\u001b[0m\n\u001b[0;32m    119\u001b[0m         \u001b[38;5;28mself\u001b[39m\u001b[38;5;241m.\u001b[39m_record_score_usage(action)\n\u001b[0;32m    120\u001b[0m         \u001b[38;5;28mself\u001b[39m\u001b[38;5;241m.\u001b[39m_roll_num \u001b[38;5;241m=\u001b[39m \u001b[38;5;241m0\u001b[39m \u001b[38;5;66;03m# this will be --> 1 when rolling dice\u001b[39;00m\n\u001b[1;32m--> 121\u001b[0m         \u001b[38;5;28;43mself\u001b[39;49m\u001b[38;5;241;43m.\u001b[39;49m\u001b[43m_roll_dice\u001b[49m\u001b[43m(\u001b[49m\u001b[43mkeep_per_die\u001b[49m\u001b[38;5;241;43m=\u001b[39;49m\u001b[38;5;28;43;01mNone\u001b[39;49;00m\u001b[43m)\u001b[49m\n\u001b[0;32m    123\u001b[0m \u001b[38;5;28mself\u001b[39m\u001b[38;5;241m.\u001b[39m_episode_score \u001b[38;5;241m+\u001b[39m\u001b[38;5;241m=\u001b[39m reward \u001b[38;5;66;03m# for self.info\u001b[39;00m\n\u001b[0;32m    125\u001b[0m \u001b[38;5;28;01mif\u001b[39;00m \u001b[38;5;28mself\u001b[39m\u001b[38;5;241m.\u001b[39mgame_length\u001b[38;5;241m==\u001b[39m\u001b[38;5;124m'\u001b[39m\u001b[38;5;124mshort\u001b[39m\u001b[38;5;124m'\u001b[39m:\n",
      "File \u001b[1;32mc:\\users\\bauer\\documents\\code\\python\\yahtzeerl\\src\\src\\envs\\yahtzee_env.py:195\u001b[0m, in \u001b[0;36mYahzeeEnv._roll_dice\u001b[1;34m(self, keep_per_die)\u001b[0m\n\u001b[0;32m    193\u001b[0m     masks\u001b[38;5;241m.\u001b[39mappend(mask)\n\u001b[0;32m    194\u001b[0m \u001b[38;5;28mself\u001b[39m\u001b[38;5;241m.\u001b[39m_roll_num \u001b[38;5;241m+\u001b[39m\u001b[38;5;241m=\u001b[39m \u001b[38;5;241m1\u001b[39m\n\u001b[1;32m--> 195\u001b[0m \u001b[38;5;28mself\u001b[39m\u001b[38;5;241m.\u001b[39m_rolls \u001b[38;5;241m=\u001b[39m \u001b[38;5;28;43mself\u001b[39;49m\u001b[38;5;241;43m.\u001b[39;49m\u001b[43mobservation_space\u001b[49m\u001b[43m[\u001b[49m\u001b[38;5;124;43m'\u001b[39;49m\u001b[38;5;124;43mrolls\u001b[39;49m\u001b[38;5;124;43m'\u001b[39;49m\u001b[43m]\u001b[49m\u001b[38;5;241;43m.\u001b[39;49m\u001b[43msample\u001b[49m\u001b[43m(\u001b[49m\u001b[43mmask\u001b[49m\u001b[38;5;241;43m=\u001b[39;49m\u001b[38;5;28;43mtuple\u001b[39;49m\u001b[43m(\u001b[49m\u001b[43mmasks\u001b[49m\u001b[43m)\u001b[49m\u001b[43m)\u001b[49m\n",
      "File \u001b[1;32mc:\\Users\\Bauer\\Documents\\Code\\Python\\YahtzeeRL\\venv\\lib\\site-packages\\gym\\spaces\\multi_discrete.py:121\u001b[0m, in \u001b[0;36mMultiDiscrete.sample\u001b[1;34m(self, mask)\u001b[0m\n\u001b[0;32m    118\u001b[0m             \u001b[38;5;28;01melse\u001b[39;00m:\n\u001b[0;32m    119\u001b[0m                 \u001b[38;5;28;01mreturn\u001b[39;00m \u001b[38;5;241m0\u001b[39m\n\u001b[1;32m--> 121\u001b[0m     \u001b[38;5;28;01mreturn\u001b[39;00m np\u001b[38;5;241m.\u001b[39marray(\u001b[43m_apply_mask\u001b[49m\u001b[43m(\u001b[49m\u001b[43mmask\u001b[49m\u001b[43m,\u001b[49m\u001b[43m \u001b[49m\u001b[38;5;28;43mself\u001b[39;49m\u001b[38;5;241;43m.\u001b[39;49m\u001b[43mnvec\u001b[49m\u001b[43m)\u001b[49m, dtype\u001b[38;5;241m=\u001b[39m\u001b[38;5;28mself\u001b[39m\u001b[38;5;241m.\u001b[39mdtype)\n\u001b[0;32m    123\u001b[0m \u001b[38;5;28;01mreturn\u001b[39;00m (\u001b[38;5;28mself\u001b[39m\u001b[38;5;241m.\u001b[39mnp_random\u001b[38;5;241m.\u001b[39mrandom(\u001b[38;5;28mself\u001b[39m\u001b[38;5;241m.\u001b[39mnvec\u001b[38;5;241m.\u001b[39mshape) \u001b[38;5;241m*\u001b[39m \u001b[38;5;28mself\u001b[39m\u001b[38;5;241m.\u001b[39mnvec)\u001b[38;5;241m.\u001b[39mastype(\u001b[38;5;28mself\u001b[39m\u001b[38;5;241m.\u001b[39mdtype)\n",
      "File \u001b[1;32mc:\\Users\\Bauer\\Documents\\Code\\Python\\YahtzeeRL\\venv\\lib\\site-packages\\gym\\spaces\\multi_discrete.py:93\u001b[0m, in \u001b[0;36mMultiDiscrete.sample.<locals>._apply_mask\u001b[1;34m(sub_mask, sub_nvec)\u001b[0m\n\u001b[0;32m     87\u001b[0m     \u001b[38;5;28;01massert\u001b[39;00m \u001b[38;5;28misinstance\u001b[39m(\n\u001b[0;32m     88\u001b[0m         sub_mask, \u001b[38;5;28mtuple\u001b[39m\n\u001b[0;32m     89\u001b[0m     ), \u001b[38;5;124mf\u001b[39m\u001b[38;5;124m\"\u001b[39m\u001b[38;5;124mExpects the mask to be a tuple for sub_nvec (\u001b[39m\u001b[38;5;132;01m{\u001b[39;00msub_nvec\u001b[38;5;132;01m}\u001b[39;00m\u001b[38;5;124m), actual type: \u001b[39m\u001b[38;5;132;01m{\u001b[39;00m\u001b[38;5;28mtype\u001b[39m(sub_mask)\u001b[38;5;132;01m}\u001b[39;00m\u001b[38;5;124m\"\u001b[39m\n\u001b[0;32m     90\u001b[0m     \u001b[38;5;28;01massert\u001b[39;00m \u001b[38;5;28mlen\u001b[39m(sub_mask) \u001b[38;5;241m==\u001b[39m \u001b[38;5;28mlen\u001b[39m(\n\u001b[0;32m     91\u001b[0m         sub_nvec\n\u001b[0;32m     92\u001b[0m     ), \u001b[38;5;124mf\u001b[39m\u001b[38;5;124m\"\u001b[39m\u001b[38;5;124mExpects the mask length to be equal to the number of actions, mask length: \u001b[39m\u001b[38;5;132;01m{\u001b[39;00m\u001b[38;5;28mlen\u001b[39m(sub_mask)\u001b[38;5;132;01m}\u001b[39;00m\u001b[38;5;124m, nvec length: \u001b[39m\u001b[38;5;132;01m{\u001b[39;00m\u001b[38;5;28mlen\u001b[39m(sub_nvec)\u001b[38;5;132;01m}\u001b[39;00m\u001b[38;5;124m\"\u001b[39m\n\u001b[1;32m---> 93\u001b[0m     \u001b[38;5;28;01mreturn\u001b[39;00m [\n\u001b[0;32m     94\u001b[0m         _apply_mask(new_mask, new_nvec)\n\u001b[0;32m     95\u001b[0m         \u001b[38;5;28;01mfor\u001b[39;00m new_mask, new_nvec \u001b[38;5;129;01min\u001b[39;00m \u001b[38;5;28mzip\u001b[39m(sub_mask, sub_nvec)\n\u001b[0;32m     96\u001b[0m     ]\n\u001b[0;32m     97\u001b[0m \u001b[38;5;28;01melse\u001b[39;00m:\n\u001b[0;32m     98\u001b[0m     \u001b[38;5;28;01massert\u001b[39;00m np\u001b[38;5;241m.\u001b[39missubdtype(\n\u001b[0;32m     99\u001b[0m         \u001b[38;5;28mtype\u001b[39m(sub_nvec), np\u001b[38;5;241m.\u001b[39minteger\n\u001b[0;32m    100\u001b[0m     ), \u001b[38;5;124mf\u001b[39m\u001b[38;5;124m\"\u001b[39m\u001b[38;5;124mExpects the sub_nvec to be an action, actually: \u001b[39m\u001b[38;5;132;01m{\u001b[39;00msub_nvec\u001b[38;5;132;01m}\u001b[39;00m\u001b[38;5;124m, \u001b[39m\u001b[38;5;132;01m{\u001b[39;00m\u001b[38;5;28mtype\u001b[39m(sub_nvec)\u001b[38;5;132;01m}\u001b[39;00m\u001b[38;5;124m\"\u001b[39m\n",
      "File \u001b[1;32mc:\\Users\\Bauer\\Documents\\Code\\Python\\YahtzeeRL\\venv\\lib\\site-packages\\gym\\spaces\\multi_discrete.py:94\u001b[0m, in \u001b[0;36m<listcomp>\u001b[1;34m(.0)\u001b[0m\n\u001b[0;32m     87\u001b[0m     \u001b[38;5;28;01massert\u001b[39;00m \u001b[38;5;28misinstance\u001b[39m(\n\u001b[0;32m     88\u001b[0m         sub_mask, \u001b[38;5;28mtuple\u001b[39m\n\u001b[0;32m     89\u001b[0m     ), \u001b[38;5;124mf\u001b[39m\u001b[38;5;124m\"\u001b[39m\u001b[38;5;124mExpects the mask to be a tuple for sub_nvec (\u001b[39m\u001b[38;5;132;01m{\u001b[39;00msub_nvec\u001b[38;5;132;01m}\u001b[39;00m\u001b[38;5;124m), actual type: \u001b[39m\u001b[38;5;132;01m{\u001b[39;00m\u001b[38;5;28mtype\u001b[39m(sub_mask)\u001b[38;5;132;01m}\u001b[39;00m\u001b[38;5;124m\"\u001b[39m\n\u001b[0;32m     90\u001b[0m     \u001b[38;5;28;01massert\u001b[39;00m \u001b[38;5;28mlen\u001b[39m(sub_mask) \u001b[38;5;241m==\u001b[39m \u001b[38;5;28mlen\u001b[39m(\n\u001b[0;32m     91\u001b[0m         sub_nvec\n\u001b[0;32m     92\u001b[0m     ), \u001b[38;5;124mf\u001b[39m\u001b[38;5;124m\"\u001b[39m\u001b[38;5;124mExpects the mask length to be equal to the number of actions, mask length: \u001b[39m\u001b[38;5;132;01m{\u001b[39;00m\u001b[38;5;28mlen\u001b[39m(sub_mask)\u001b[38;5;132;01m}\u001b[39;00m\u001b[38;5;124m, nvec length: \u001b[39m\u001b[38;5;132;01m{\u001b[39;00m\u001b[38;5;28mlen\u001b[39m(sub_nvec)\u001b[38;5;132;01m}\u001b[39;00m\u001b[38;5;124m\"\u001b[39m\n\u001b[0;32m     93\u001b[0m     \u001b[38;5;28;01mreturn\u001b[39;00m [\n\u001b[1;32m---> 94\u001b[0m         \u001b[43m_apply_mask\u001b[49m\u001b[43m(\u001b[49m\u001b[43mnew_mask\u001b[49m\u001b[43m,\u001b[49m\u001b[43m \u001b[49m\u001b[43mnew_nvec\u001b[49m\u001b[43m)\u001b[49m\n\u001b[0;32m     95\u001b[0m         \u001b[38;5;28;01mfor\u001b[39;00m new_mask, new_nvec \u001b[38;5;129;01min\u001b[39;00m \u001b[38;5;28mzip\u001b[39m(sub_mask, sub_nvec)\n\u001b[0;32m     96\u001b[0m     ]\n\u001b[0;32m     97\u001b[0m \u001b[38;5;28;01melse\u001b[39;00m:\n\u001b[0;32m     98\u001b[0m     \u001b[38;5;28;01massert\u001b[39;00m np\u001b[38;5;241m.\u001b[39missubdtype(\n\u001b[0;32m     99\u001b[0m         \u001b[38;5;28mtype\u001b[39m(sub_nvec), np\u001b[38;5;241m.\u001b[39minteger\n\u001b[0;32m    100\u001b[0m     ), \u001b[38;5;124mf\u001b[39m\u001b[38;5;124m\"\u001b[39m\u001b[38;5;124mExpects the sub_nvec to be an action, actually: \u001b[39m\u001b[38;5;132;01m{\u001b[39;00msub_nvec\u001b[38;5;132;01m}\u001b[39;00m\u001b[38;5;124m, \u001b[39m\u001b[38;5;132;01m{\u001b[39;00m\u001b[38;5;28mtype\u001b[39m(sub_nvec)\u001b[38;5;132;01m}\u001b[39;00m\u001b[38;5;124m\"\u001b[39m\n",
      "File \u001b[1;32mc:\\Users\\Bauer\\Documents\\Code\\Python\\YahtzeeRL\\venv\\lib\\site-packages\\gym\\spaces\\multi_discrete.py:104\u001b[0m, in \u001b[0;36mMultiDiscrete.sample.<locals>._apply_mask\u001b[1;34m(sub_mask, sub_nvec)\u001b[0m\n\u001b[0;32m     98\u001b[0m \u001b[38;5;28;01massert\u001b[39;00m np\u001b[38;5;241m.\u001b[39missubdtype(\n\u001b[0;32m     99\u001b[0m     \u001b[38;5;28mtype\u001b[39m(sub_nvec), np\u001b[38;5;241m.\u001b[39minteger\n\u001b[0;32m    100\u001b[0m ), \u001b[38;5;124mf\u001b[39m\u001b[38;5;124m\"\u001b[39m\u001b[38;5;124mExpects the sub_nvec to be an action, actually: \u001b[39m\u001b[38;5;132;01m{\u001b[39;00msub_nvec\u001b[38;5;132;01m}\u001b[39;00m\u001b[38;5;124m, \u001b[39m\u001b[38;5;132;01m{\u001b[39;00m\u001b[38;5;28mtype\u001b[39m(sub_nvec)\u001b[38;5;132;01m}\u001b[39;00m\u001b[38;5;124m\"\u001b[39m\n\u001b[0;32m    101\u001b[0m \u001b[38;5;28;01massert\u001b[39;00m \u001b[38;5;28misinstance\u001b[39m(\n\u001b[0;32m    102\u001b[0m     sub_mask, np\u001b[38;5;241m.\u001b[39mndarray\n\u001b[0;32m    103\u001b[0m ), \u001b[38;5;124mf\u001b[39m\u001b[38;5;124m\"\u001b[39m\u001b[38;5;124mExpects the sub mask to be np.ndarray, actual type: \u001b[39m\u001b[38;5;132;01m{\u001b[39;00m\u001b[38;5;28mtype\u001b[39m(sub_mask)\u001b[38;5;132;01m}\u001b[39;00m\u001b[38;5;124m\"\u001b[39m\n\u001b[1;32m--> 104\u001b[0m \u001b[38;5;28;01massert\u001b[39;00m (\n\u001b[0;32m    105\u001b[0m     \u001b[38;5;28mlen\u001b[39m(sub_mask) \u001b[38;5;241m==\u001b[39m sub_nvec\n\u001b[0;32m    106\u001b[0m ), \u001b[38;5;124mf\u001b[39m\u001b[38;5;124m\"\u001b[39m\u001b[38;5;124mExpects the mask length to be equal to the number of actions, mask length: \u001b[39m\u001b[38;5;132;01m{\u001b[39;00m\u001b[38;5;28mlen\u001b[39m(sub_mask)\u001b[38;5;132;01m}\u001b[39;00m\u001b[38;5;124m, action: \u001b[39m\u001b[38;5;132;01m{\u001b[39;00msub_nvec\u001b[38;5;132;01m}\u001b[39;00m\u001b[38;5;124m\"\u001b[39m\n\u001b[0;32m    107\u001b[0m \u001b[38;5;28;01massert\u001b[39;00m (\n\u001b[0;32m    108\u001b[0m     sub_mask\u001b[38;5;241m.\u001b[39mdtype \u001b[38;5;241m==\u001b[39m np\u001b[38;5;241m.\u001b[39mint8\n\u001b[0;32m    109\u001b[0m ), \u001b[38;5;124mf\u001b[39m\u001b[38;5;124m\"\u001b[39m\u001b[38;5;124mExpects the mask dtype to be np.int8, actual dtype: \u001b[39m\u001b[38;5;132;01m{\u001b[39;00msub_mask\u001b[38;5;241m.\u001b[39mdtype\u001b[38;5;132;01m}\u001b[39;00m\u001b[38;5;124m\"\u001b[39m\n\u001b[0;32m    111\u001b[0m valid_action_mask \u001b[38;5;241m=\u001b[39m sub_mask \u001b[38;5;241m==\u001b[39m \u001b[38;5;241m1\u001b[39m\n",
      "\u001b[1;31mAssertionError\u001b[0m: Expects the mask length to be equal to the number of actions, mask length: 3, action: 6"
     ]
    }
   ],
   "source": [
    "done = False\n",
    "while not done:\n",
    "    while True:\n",
    "        all_actions = ['Kxxx, x in {0,1}']+list(env._get_scorable_options().keys()) \n",
    "        action = input(f'Rolls={obs[\"rolls\"]+1}\\nInput one of these actions:\\n{all_actions}')\n",
    "        if env.action_format_checker.match(action) is not None: break\n",
    "    obs, reward, done, _, info = env.step(action)"
   ]
  },
  {
   "cell_type": "code",
   "execution_count": null,
   "metadata": {},
   "outputs": [],
   "source": []
  },
  {
   "cell_type": "code",
   "execution_count": null,
   "metadata": {},
   "outputs": [],
   "source": []
  }
 ],
 "metadata": {
  "kernelspec": {
   "display_name": "venv",
   "language": "python",
   "name": "python3"
  },
  "language_info": {
   "codemirror_mode": {
    "name": "ipython",
    "version": 3
   },
   "file_extension": ".py",
   "mimetype": "text/x-python",
   "name": "python",
   "nbconvert_exporter": "python",
   "pygments_lexer": "ipython3",
   "version": "3.8.5"
  }
 },
 "nbformat": 4,
 "nbformat_minor": 2
}
