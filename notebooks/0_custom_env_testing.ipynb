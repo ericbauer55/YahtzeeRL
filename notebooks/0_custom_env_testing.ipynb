{
 "cells": [
  {
   "cell_type": "code",
   "execution_count": 1,
   "metadata": {},
   "outputs": [],
   "source": [
    "# alternate strategy: https://stackoverflow.com/questions/1471994/what-is-setup-py --> making this shit a module to install\n",
    "import sys\n",
    "from pathlib import Path\n",
    "PWD = Path.cwd()\n",
    "# SRC = PWD.parent / 'src'\n",
    "# sys.path.append(SRC)\n",
    "from src.envs.yahtzee_env import YahzeeEnv\n",
    "from gym.spaces import flatdim, flatten, flatten_space\n",
    "import numpy as np"
   ]
  },
  {
   "cell_type": "code",
   "execution_count": 2,
   "metadata": {},
   "outputs": [],
   "source": [
    "env = YahzeeEnv(num_dice=3, game_length='full', scoring_options='upper')"
   ]
  },
  {
   "cell_type": "code",
   "execution_count": 20,
   "metadata": {},
   "outputs": [
    {
     "data": {
      "text/plain": [
       "array([0, 5, 5], dtype=int64)"
      ]
     },
     "execution_count": 20,
     "metadata": {},
     "output_type": "execute_result"
    }
   ],
   "source": [
    "mask = np.array([1,1,0,0,0,1], dtype=np.int8)\n",
    "env.observation_space['rolls'].sample(mask=(mask, mask, mask))"
   ]
  },
  {
   "cell_type": "code",
   "execution_count": 21,
   "metadata": {},
   "outputs": [
    {
     "data": {
      "text/plain": [
       "array([1, 1, 0, 0, 0, 0], dtype=int8)"
      ]
     },
     "execution_count": 21,
     "metadata": {},
     "output_type": "execute_result"
    }
   ],
   "source": [
    "env.observation_space['scored_options'].sample(mask=np.array([1,1,0,0,0,0], dtype=np.int8))"
   ]
  },
  {
   "cell_type": "code",
   "execution_count": 33,
   "metadata": {},
   "outputs": [
    {
     "name": "stdout",
     "output_type": "stream",
     "text": [
      "[0 1 0 1 1 0]\n",
      "6\n",
      "[0 1 0 1 1 0]\n"
     ]
    }
   ],
   "source": [
    "space = env.observation_space['scored_options']\n",
    "sample = space.sample()\n",
    "print(flatten(space, sample))\n",
    "print(flatdim(space))\n",
    "print(sample)"
   ]
  },
  {
   "cell_type": "code",
   "execution_count": null,
   "metadata": {},
   "outputs": [],
   "source": []
  },
  {
   "cell_type": "code",
   "execution_count": null,
   "metadata": {},
   "outputs": [],
   "source": []
  }
 ],
 "metadata": {
  "kernelspec": {
   "display_name": "venv",
   "language": "python",
   "name": "python3"
  },
  "language_info": {
   "codemirror_mode": {
    "name": "ipython",
    "version": 3
   },
   "file_extension": ".py",
   "mimetype": "text/x-python",
   "name": "python",
   "nbconvert_exporter": "python",
   "pygments_lexer": "ipython3",
   "version": "3.8.5"
  }
 },
 "nbformat": 4,
 "nbformat_minor": 2
}
